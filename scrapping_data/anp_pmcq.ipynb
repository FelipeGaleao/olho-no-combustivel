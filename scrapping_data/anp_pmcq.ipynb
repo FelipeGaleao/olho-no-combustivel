{
 "cells": [
  {
   "cell_type": "code",
   "execution_count": 42,
   "metadata": {},
   "outputs": [],
   "source": [
    "import pandas as pd\n",
    "import polars as pl\n",
    "import bs4\n",
    "import requests\n",
    "import re\n",
    "import os"
   ]
  },
  {
   "cell_type": "code",
   "execution_count": 43,
   "metadata": {},
   "outputs": [
    {
     "ename": "KeyboardInterrupt",
     "evalue": "",
     "output_type": "error",
     "traceback": [
      "\u001b[1;31m---------------------------------------------------------------------------\u001b[0m",
      "\u001b[1;31mKeyboardInterrupt\u001b[0m                         Traceback (most recent call last)",
      "Cell \u001b[1;32mIn[43], line 24\u001b[0m\n\u001b[0;32m     21\u001b[0m     urllib\u001b[39m.\u001b[39mrequest\u001b[39m.\u001b[39murlretrieve(link, \u001b[39mf\u001b[39m\u001b[39m\"\u001b[39m\u001b[39mpmqc/\u001b[39m\u001b[39m{\u001b[39;00mname_file\u001b[39m}\u001b[39;00m\u001b[39m\"\u001b[39m)\n\u001b[0;32m     23\u001b[0m pool \u001b[39m=\u001b[39m ThreadPool(\u001b[39m8\u001b[39m)\n\u001b[1;32m---> 24\u001b[0m pool\u001b[39m.\u001b[39;49mmap(download_file, links)\n\u001b[0;32m     25\u001b[0m pool\u001b[39m.\u001b[39mclose()\n",
      "File \u001b[1;32md:\\ProgramData\\Anaconda3\\envs\\olhonocomb\\Lib\\multiprocessing\\pool.py:367\u001b[0m, in \u001b[0;36mPool.map\u001b[1;34m(self, func, iterable, chunksize)\u001b[0m\n\u001b[0;32m    362\u001b[0m \u001b[39mdef\u001b[39;00m \u001b[39mmap\u001b[39m(\u001b[39mself\u001b[39m, func, iterable, chunksize\u001b[39m=\u001b[39m\u001b[39mNone\u001b[39;00m):\n\u001b[0;32m    363\u001b[0m \u001b[39m    \u001b[39m\u001b[39m'''\u001b[39;00m\n\u001b[0;32m    364\u001b[0m \u001b[39m    Apply `func` to each element in `iterable`, collecting the results\u001b[39;00m\n\u001b[0;32m    365\u001b[0m \u001b[39m    in a list that is returned.\u001b[39;00m\n\u001b[0;32m    366\u001b[0m \u001b[39m    '''\u001b[39;00m\n\u001b[1;32m--> 367\u001b[0m     \u001b[39mreturn\u001b[39;00m \u001b[39mself\u001b[39;49m\u001b[39m.\u001b[39;49m_map_async(func, iterable, mapstar, chunksize)\u001b[39m.\u001b[39;49mget()\n",
      "File \u001b[1;32md:\\ProgramData\\Anaconda3\\envs\\olhonocomb\\Lib\\multiprocessing\\pool.py:768\u001b[0m, in \u001b[0;36mApplyResult.get\u001b[1;34m(self, timeout)\u001b[0m\n\u001b[0;32m    767\u001b[0m \u001b[39mdef\u001b[39;00m \u001b[39mget\u001b[39m(\u001b[39mself\u001b[39m, timeout\u001b[39m=\u001b[39m\u001b[39mNone\u001b[39;00m):\n\u001b[1;32m--> 768\u001b[0m     \u001b[39mself\u001b[39;49m\u001b[39m.\u001b[39;49mwait(timeout)\n\u001b[0;32m    769\u001b[0m     \u001b[39mif\u001b[39;00m \u001b[39mnot\u001b[39;00m \u001b[39mself\u001b[39m\u001b[39m.\u001b[39mready():\n\u001b[0;32m    770\u001b[0m         \u001b[39mraise\u001b[39;00m \u001b[39mTimeoutError\u001b[39;00m\n",
      "File \u001b[1;32md:\\ProgramData\\Anaconda3\\envs\\olhonocomb\\Lib\\multiprocessing\\pool.py:765\u001b[0m, in \u001b[0;36mApplyResult.wait\u001b[1;34m(self, timeout)\u001b[0m\n\u001b[0;32m    764\u001b[0m \u001b[39mdef\u001b[39;00m \u001b[39mwait\u001b[39m(\u001b[39mself\u001b[39m, timeout\u001b[39m=\u001b[39m\u001b[39mNone\u001b[39;00m):\n\u001b[1;32m--> 765\u001b[0m     \u001b[39mself\u001b[39;49m\u001b[39m.\u001b[39;49m_event\u001b[39m.\u001b[39;49mwait(timeout)\n",
      "File \u001b[1;32md:\\ProgramData\\Anaconda3\\envs\\olhonocomb\\Lib\\threading.py:622\u001b[0m, in \u001b[0;36mEvent.wait\u001b[1;34m(self, timeout)\u001b[0m\n\u001b[0;32m    620\u001b[0m signaled \u001b[39m=\u001b[39m \u001b[39mself\u001b[39m\u001b[39m.\u001b[39m_flag\n\u001b[0;32m    621\u001b[0m \u001b[39mif\u001b[39;00m \u001b[39mnot\u001b[39;00m signaled:\n\u001b[1;32m--> 622\u001b[0m     signaled \u001b[39m=\u001b[39m \u001b[39mself\u001b[39;49m\u001b[39m.\u001b[39;49m_cond\u001b[39m.\u001b[39;49mwait(timeout)\n\u001b[0;32m    623\u001b[0m \u001b[39mreturn\u001b[39;00m signaled\n",
      "File \u001b[1;32md:\\ProgramData\\Anaconda3\\envs\\olhonocomb\\Lib\\threading.py:320\u001b[0m, in \u001b[0;36mCondition.wait\u001b[1;34m(self, timeout)\u001b[0m\n\u001b[0;32m    318\u001b[0m \u001b[39mtry\u001b[39;00m:    \u001b[39m# restore state no matter what (e.g., KeyboardInterrupt)\u001b[39;00m\n\u001b[0;32m    319\u001b[0m     \u001b[39mif\u001b[39;00m timeout \u001b[39mis\u001b[39;00m \u001b[39mNone\u001b[39;00m:\n\u001b[1;32m--> 320\u001b[0m         waiter\u001b[39m.\u001b[39;49macquire()\n\u001b[0;32m    321\u001b[0m         gotit \u001b[39m=\u001b[39m \u001b[39mTrue\u001b[39;00m\n\u001b[0;32m    322\u001b[0m     \u001b[39melse\u001b[39;00m:\n",
      "\u001b[1;31mKeyboardInterrupt\u001b[0m: "
     ]
    }
   ],
   "source": [
    "# get all links that contains .csv \n",
    "relative_path = './pmqc/'\n",
    "url = 'https://www.gov.br/anp/pt-br/centrais-de-conteudo/dados-abertos/pmqc-programa-de-monitoramento-da-qualidade-dos-combustiveis'\n",
    "response = requests.get(url)\n",
    "soup = bs4.BeautifulSoup(response.text, 'html.parser')\n",
    "links = soup.find_all('a', href=re.compile(r'.csv'))\n",
    "# get only links between href and \" target\n",
    "links = [link['href'] for link in links if 'target' in link.attrs]\n",
    "\n",
    "# # download all files using multiprocessing and urllib\n",
    "import urllib.request\n",
    "from multiprocessing.pool import ThreadPool\n",
    "\n",
    "def download_file(link):\n",
    "    # from string https://www.gov.br/anp/pt-br/centrais-de-conteudo/dados-abertos/arquivos/pmqc/2023/pmqc_2023_04.csv\n",
    "    # get year of file \n",
    "    year = link.split('/')[-2]\n",
    "    name_file = link.split('/')[-1]\n",
    "    if not os.path.exists(f\"pmqc/\"):\n",
    "        os.makedirs(f\"pmqc/\")\n",
    "    urllib.request.urlretrieve(link, f\"pmqc/{name_file}\")\n",
    "\n",
    "pool = ThreadPool(8)\n",
    "pool.map(download_file, links)\n",
    "pool.close()\n",
    "\n"
   ]
  },
  {
   "cell_type": "code",
   "execution_count": null,
   "metadata": {},
   "outputs": [],
   "source": [
    "if not os.path.exists(f\"pmqc_processed/\"):\n",
    "    os.makedirs(f\"pmqc_processed/\")\n",
    "    \n",
    "df = pl.read_csv(\"pmqc/*.csv\", separator=';', infer_schema_length=10000).limit(1000)\n",
    "df = df.with_columns(\n",
    "    pl.col('DataColeta').str.strptime(pl.Date, \"%Y-%m-%d\", strict=False).cast(pl.Date),\n",
    "    # remove all special characters from column CnpjMatriz\n",
    "    pl.col('CnpjPosto').str.replace_all(r'[^0-9]', '')\n",
    ")\n",
    "\n",
    "# # ## generate postos dimensions\n",
    "postos = df.select([\n",
    "    'CnpjPosto',\n",
    "    'RazaoSocialPosto',\n",
    "    'Distribuidora',\n",
    "    'Endereço',\n",
    "    'Bairro',\n",
    "    'Município',\n",
    "    'Uf'])\n",
    "postos = postos.unique(subset=[\"CnpjPosto\"])\n",
    "postos = postos.with_columns(\n",
    "    pl.col('CnpjPosto').str.slice(0, 8).cast(pl.Int32).alias('CnpjMatriz')\n",
    ")\n",
    "postos.write_json('pmqc_processed/postos.json', row_oriented=True)\n",
    "\n"
   ]
  },
  {
   "cell_type": "code",
   "execution_count": null,
   "metadata": {},
   "outputs": [],
   "source": [
    "# generate fact table\n",
    "coletas = df.select([\n",
    "    'DataColeta',\n",
    "    'IdNumeric',\n",
    "    'CnpjPosto',\n",
    "    'Produto',\n",
    "    'Ensaio',\n",
    "    'Resultado',\n",
    "    'UnidadeEnsaio',\n",
    "    'Conforme'])\n",
    "coletas = coletas.unique(subset=['IdNumeric'])\n",
    "coletas.write_json('pmqc_processed/coletas.json', row_oriented=True)\n"
   ]
  },
  {
   "cell_type": "code",
   "execution_count": null,
   "metadata": {},
   "outputs": [],
   "source": [
    "import json\n",
    "json_postos = json.load(open('pmqc_processed/postos.json', 'r'))\n",
    "json_postos"
   ]
  }
 ],
 "metadata": {
  "kernelspec": {
   "display_name": "olhonocomb",
   "language": "python",
   "name": "python3"
  },
  "language_info": {
   "codemirror_mode": {
    "name": "ipython",
    "version": 3
   },
   "file_extension": ".py",
   "mimetype": "text/x-python",
   "name": "python",
   "nbconvert_exporter": "python",
   "pygments_lexer": "ipython3",
   "version": "3.11.4"
  },
  "orig_nbformat": 4
 },
 "nbformat": 4,
 "nbformat_minor": 2
}
