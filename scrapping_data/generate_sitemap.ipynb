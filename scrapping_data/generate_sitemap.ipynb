{
 "cells": [
  {
   "cell_type": "code",
   "execution_count": 2,
   "metadata": {},
   "outputs": [
    {
     "name": "stdout",
     "output_type": "stream",
     "text": [
      "Requirement already satisfied: pandas in /Users/mfelipemota/Projects/olho-no-combustivel/.conda/lib/python3.10/site-packages (2.1.4)\n",
      "Requirement already satisfied: polars in /Users/mfelipemota/Projects/olho-no-combustivel/.conda/lib/python3.10/site-packages (0.20.2)\n",
      "Requirement already satisfied: bs4 in /Users/mfelipemota/Projects/olho-no-combustivel/.conda/lib/python3.10/site-packages (0.0.1)\n",
      "Requirement already satisfied: requests in /Users/mfelipemota/Projects/olho-no-combustivel/.conda/lib/python3.10/site-packages (2.31.0)\n",
      "Requirement already satisfied: numpy<2,>=1.22.4 in /Users/mfelipemota/Projects/olho-no-combustivel/.conda/lib/python3.10/site-packages (from pandas) (1.26.2)\n",
      "Requirement already satisfied: python-dateutil>=2.8.2 in /Users/mfelipemota/Projects/olho-no-combustivel/.conda/lib/python3.10/site-packages (from pandas) (2.8.2)\n",
      "Requirement already satisfied: pytz>=2020.1 in /Users/mfelipemota/Projects/olho-no-combustivel/.conda/lib/python3.10/site-packages (from pandas) (2023.3.post1)\n",
      "Requirement already satisfied: tzdata>=2022.1 in /Users/mfelipemota/Projects/olho-no-combustivel/.conda/lib/python3.10/site-packages (from pandas) (2023.4)\n",
      "Requirement already satisfied: beautifulsoup4 in /Users/mfelipemota/Projects/olho-no-combustivel/.conda/lib/python3.10/site-packages (from bs4) (4.12.2)\n",
      "Requirement already satisfied: charset-normalizer<4,>=2 in /Users/mfelipemota/Projects/olho-no-combustivel/.conda/lib/python3.10/site-packages (from requests) (3.3.2)\n",
      "Requirement already satisfied: idna<4,>=2.5 in /Users/mfelipemota/Projects/olho-no-combustivel/.conda/lib/python3.10/site-packages (from requests) (3.6)\n",
      "Requirement already satisfied: urllib3<3,>=1.21.1 in /Users/mfelipemota/Projects/olho-no-combustivel/.conda/lib/python3.10/site-packages (from requests) (2.1.0)\n",
      "Requirement already satisfied: certifi>=2017.4.17 in /Users/mfelipemota/Projects/olho-no-combustivel/.conda/lib/python3.10/site-packages (from requests) (2023.11.17)\n",
      "Requirement already satisfied: six>=1.5 in /Users/mfelipemota/Projects/olho-no-combustivel/.conda/lib/python3.10/site-packages (from python-dateutil>=2.8.2->pandas) (1.16.0)\n",
      "Requirement already satisfied: soupsieve>1.2 in /Users/mfelipemota/Projects/olho-no-combustivel/.conda/lib/python3.10/site-packages (from beautifulsoup4->bs4) (2.5)\n"
     ]
    }
   ],
   "source": [
    "!pip install pandas polars bs4 requests \n",
    "\n",
    "import pandas as pd\n",
    "import polars as pl\n",
    "import bs4\n",
    "import requests\n",
    "import re\n",
    "import os"
   ]
  },
  {
   "cell_type": "code",
   "execution_count": null,
   "metadata": {},
   "outputs": [],
   "source": []
  },
  {
   "cell_type": "code",
   "execution_count": 9,
   "metadata": {},
   "outputs": [
    {
     "name": "stdout",
     "output_type": "stream",
     "text": [
      "(4601837, 19)\n"
     ]
    },
    {
     "name": "stderr",
     "output_type": "stream",
     "text": [
      "<timed exec>:43: DeprecationWarning: `apply` is deprecated. It has been renamed to `map_elements`.\n"
     ]
    },
    {
     "name": "stdout",
     "output_type": "stream",
     "text": [
      "CPU times: user 4.04 s, sys: 1.96 s, total: 6 s\n",
      "Wall time: 3.85 s\n"
     ]
    }
   ],
   "source": [
    "%%time \n",
    "\n",
    "if not os.path.exists(f\"pmqc_processed/\"):\n",
    "    os.makedirs(f\"pmqc_processed/\")\n",
    "    \n",
    "df = pl.read_csv(\"pmqc/*.csv\", separator=';', infer_schema_length=10000)#.limit(1000)\n",
    "df = df.with_columns(\n",
    "    pl.col('DataColeta').str.strptime(pl.Date, \"%Y-%m-%d\", strict=False).cast(pl.Date),\n",
    "    # remove all special characters from column CnpjMatriz\n",
    "    pl.col('CnpjPosto').str.replace_all(r'[^0-9]', '')\n",
    ")\n",
    "## print count rows\n",
    "print(df.shape)\n",
    "\n",
    "# # ## generate postos dimensions\n",
    "postos = df.select([\n",
    "    'CnpjPosto',\n",
    "    'RazaoSocialPosto',\n",
    "    'Distribuidora',\n",
    "    'Endereço',\n",
    "    'Latitude',\n",
    "    'Longitude',\n",
    "    'Bairro',\n",
    "    'Município',\n",
    "    'Uf'])\n",
    "postos = postos.unique(subset=[\"CnpjPosto\"])\n",
    "postos = postos.with_columns(\n",
    "    pl.col('CnpjPosto').str.slice(0, 8).cast(pl.Int32).alias('CnpjMatriz')\n",
    ")\n",
    "\n",
    "\n",
    "postos = postos.unique(subset=[\"CnpjPosto\"])\n",
    "\n",
    "# apply function to get new column \"geometry\" with values like {'type': 'Point', 'coordinates': [-54.61611004, -20.46871167]}} in string format\n",
    "\n",
    "def get_geometry(row):\n",
    "    if row['Longitude'] is None or row['Latitude'] is None:\n",
    "        return {'type': 'Point', 'coordinates': [0, 0]}  # You can use any default values here\n",
    "    return {'type': 'Point', 'coordinates': [row['Longitude'], row['Latitude']]}\n",
    "\n",
    "postos = postos.with_columns(\n",
    "    pl.struct(\n",
    "        pl.col('Longitude'),\n",
    "        pl.col('Latitude')\n",
    "    ).apply(get_geometry).alias('geometry')\n",
    ")\n",
    "\n",
    "# write json\n",
    "postos.write_json(f\"pmqc_processed/postos.json\", row_oriented=True)"
   ]
  },
  {
   "cell_type": "code",
   "execution_count": 10,
   "metadata": {},
   "outputs": [],
   "source": [
    "# polars to pandas\n",
    "postos = postos.to_pandas()\n",
    "\n",
    "def generate_xml_row(row):\n",
    "    return f'''\n",
    "    <url>\n",
    "        <loc>https://www.olhonocombustivel.com/posto/{row['CnpjPosto']}</loc>\n",
    "        <lastmod>2024-01-01</lastmod>\n",
    "        <changefreq>monthly</changefreq>\n",
    "        <priority>0.8</priority>\n",
    "    </url>\n",
    "    '''\n",
    "\n",
    "# Aplicando a função para cada linha do DataFrame\n",
    "xml_rows = postos.apply(generate_xml_row, axis=1)\n",
    "\n",
    "# Criando o sitemap XML completo\n",
    "sitemap_xml = f'''<?xml version=\"1.0\" encoding=\"UTF-8\"?>\n",
    "<urlset>\n",
    "    {\"\".join(xml_rows)}\n",
    "</urlset>\n",
    "'''\n",
    "\n",
    "# Salvando o sitemap XML em um arquivo\n",
    "with open('sitemap.xml', 'w') as file:\n",
    "    file.write(sitemap_xml)"
   ]
  }
 ],
 "metadata": {
  "kernelspec": {
   "display_name": "olhonocomb",
   "language": "python",
   "name": "python3"
  },
  "language_info": {
   "codemirror_mode": {
    "name": "ipython",
    "version": 3
   },
   "file_extension": ".py",
   "mimetype": "text/x-python",
   "name": "python",
   "nbconvert_exporter": "python",
   "pygments_lexer": "ipython3",
   "version": "3.10.13"
  },
  "orig_nbformat": 4
 },
 "nbformat": 4,
 "nbformat_minor": 2
}
