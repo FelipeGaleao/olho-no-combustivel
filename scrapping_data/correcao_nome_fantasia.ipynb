{
 "cells": [
  {
   "cell_type": "code",
   "execution_count": 50,
   "metadata": {},
   "outputs": [],
   "source": [
    "#!pip install pandas polars bs4 requests \n",
    "\n",
    "import pandas as pd\n",
    "import polars as pl\n",
    "import bs4\n",
    "import requests\n",
    "import re\n",
    "import os"
   ]
  },
  {
   "cell_type": "code",
   "execution_count": 51,
   "metadata": {},
   "outputs": [
    {
     "data": {
      "text/html": [
       "<div><style>\n",
       ".dataframe > thead > tr,\n",
       ".dataframe > tbody > tr {\n",
       "  text-align: right;\n",
       "  white-space: pre-wrap;\n",
       "}\n",
       "</style>\n",
       "<small>shape: (2_008_294, 2)</small><table border=\"1\" class=\"dataframe\"><thead><tr><th>CnpjPosto</th><th>nome_fantasia</th></tr><tr><td>str</td><td>str</td></tr></thead><tbody><tr><td>&quot;05849850000182…</td><td>&quot;POSTO PAPALÉGU…</td></tr><tr><td>&quot;05849850000182…</td><td>&quot;POSTO PAPALÉGU…</td></tr><tr><td>&quot;05849850000182…</td><td>&quot;POSTO PAPALÉGU…</td></tr><tr><td>&quot;05849850000182…</td><td>&quot;POSTO PAPALÉGU…</td></tr><tr><td>&quot;05849850000182…</td><td>&quot;POSTO PAPALÉGU…</td></tr><tr><td>&quot;02773620000199…</td><td>&quot;&quot;POSTO PIO XII…</td></tr><tr><td>&quot;02773620000199…</td><td>&quot;&quot;POSTO PIO XII…</td></tr><tr><td>&quot;04142631000104…</td><td>&quot;AUTO POSTO LES…</td></tr><tr><td>&quot;04142631000104…</td><td>&quot;AUTO POSTO LES…</td></tr><tr><td>&quot;04142631000104…</td><td>&quot;AUTO POSTO LES…</td></tr><tr><td>&quot;04142631000104…</td><td>&quot;AUTO POSTO LES…</td></tr><tr><td>&quot;01272434001002…</td><td>&quot;CARRETEIRO 3&quot;</td></tr><tr><td>&hellip;</td><td>&hellip;</td></tr><tr><td>&quot;44526555000147…</td><td>&quot;nan&quot;</td></tr><tr><td>&quot;26243885000224…</td><td>&quot;nan&quot;</td></tr><tr><td>&quot;14660942000100…</td><td>&quot;nan&quot;</td></tr><tr><td>&quot;41894921000122…</td><td>&quot;nan&quot;</td></tr><tr><td>&quot;41894921000122…</td><td>&quot;nan&quot;</td></tr><tr><td>&quot;41894921000122…</td><td>&quot;nan&quot;</td></tr><tr><td>&quot;45415913000107…</td><td>&quot;nan&quot;</td></tr><tr><td>&quot;44405721000157…</td><td>&quot;nan&quot;</td></tr><tr><td>&quot;45023604000191…</td><td>&quot;nan&quot;</td></tr><tr><td>&quot;45154156000165…</td><td>&quot;nan&quot;</td></tr><tr><td>&quot;45008524000167…</td><td>&quot;nan&quot;</td></tr><tr><td>&quot;03928741000559…</td><td>&quot;nan&quot;</td></tr></tbody></table></div>"
      ],
      "text/plain": [
       "shape: (2_008_294, 2)\n",
       "┌────────────────┬──────────────────┐\n",
       "│ CnpjPosto      ┆ nome_fantasia    │\n",
       "│ ---            ┆ ---              │\n",
       "│ str            ┆ str              │\n",
       "╞════════════════╪══════════════════╡\n",
       "│ 05849850000182 ┆ POSTO PAPALÉGUAS │\n",
       "│ 05849850000182 ┆ POSTO PAPALÉGUAS │\n",
       "│ 05849850000182 ┆ POSTO PAPALÉGUAS │\n",
       "│ 05849850000182 ┆ POSTO PAPALÉGUAS │\n",
       "│ …              ┆ …                │\n",
       "│ 45023604000191 ┆ nan              │\n",
       "│ 45154156000165 ┆ nan              │\n",
       "│ 45008524000167 ┆ nan              │\n",
       "│ 03928741000559 ┆ nan              │\n",
       "└────────────────┴──────────────────┘"
      ]
     },
     "execution_count": 51,
     "metadata": {},
     "output_type": "execute_result"
    }
   ],
   "source": [
    "df_postos = pl.read_parquet('./staging/pmqc_processed/postos.parquet')\n",
    "df_postos\n",
    "\n",
    "df_pmqc = pl.read_parquet('./staging/fuel_price_processed/precos.parquet')\n",
    "df_pmqc = df_pmqc.select(pl.col('cnpj'), pl.col('nome_fantasia')).rename({'cnpj': 'CnpjPosto'})\n",
    "df_pmqc\n"
   ]
  },
  {
   "cell_type": "code",
   "execution_count": 52,
   "metadata": {},
   "outputs": [
    {
     "data": {
      "text/html": [
       "<div><style>\n",
       ".dataframe > thead > tr,\n",
       ".dataframe > tbody > tr {\n",
       "  text-align: right;\n",
       "  white-space: pre-wrap;\n",
       "}\n",
       "</style>\n",
       "<small>shape: (8_142, 11)</small><table border=\"1\" class=\"dataframe\"><thead><tr><th>CnpjPosto</th><th>RazaoSocialPosto</th><th>Distribuidora</th><th>DataColeta</th><th>Endereço</th><th>Latitude</th><th>Longitude</th><th>Bairro</th><th>Município</th><th>Uf</th><th>CnpjMatriz</th></tr><tr><td>str</td><td>str</td><td>str</td><td>date</td><td>str</td><td>f64</td><td>f64</td><td>str</td><td>str</td><td>str</td><td>i32</td></tr></thead><tbody><tr><td>&quot;02756935000128…</td><td>&quot;GAIVOTA&quot;</td><td>&quot;BANDEIRA BRANC…</td><td>2023-12-09</td><td>&quot;AVENIDA COTOVI…</td><td>-23.607297</td><td>-46.670765</td><td>&quot;MOEMA&quot;</td><td>&quot;SAO PAULO&quot;</td><td>&quot;SP&quot;</td><td>2756935</td></tr><tr><td>&quot;00382609000172…</td><td>&quot;POSTO TROPICAL…</td><td>&quot;BANDEIRA BRANC…</td><td>2023-06-07</td><td>&quot;AVENIDA PRESID…</td><td>-3.828891</td><td>-38.523867</td><td>&quot;MONDUBIM&quot;</td><td>&quot;FORTALEZA&quot;</td><td>&quot;CE&quot;</td><td>382609</td></tr><tr><td>&quot;11372084000453…</td><td>&quot;POSTO OPCAO&quot;</td><td>&quot;IPIRANGA PRODU…</td><td>2020-12-14</td><td>&quot;RUA DEPUTADO B…</td><td>-7.115406</td><td>-34.873851</td><td>&quot;TAMBIA&quot;</td><td>&quot;JOAO PESSOA&quot;</td><td>&quot;PB&quot;</td><td>11372084</td></tr><tr><td>&quot;36472132000163…</td><td>&quot;POSTO COCK PIT…</td><td>&quot;BANDEIRA BRANC…</td><td>2023-01-05</td><td>&quot;RUA DOS EXPEDI…</td><td>-22.810119</td><td>-43.411058</td><td>&quot;CENTRO&quot;</td><td>&quot;NILOPOLIS&quot;</td><td>&quot;RJ&quot;</td><td>36472132</td></tr><tr><td>&quot;10583881000174…</td><td>&quot;POSTO MANDINHO…</td><td>&quot;BANDEIRA BRANC…</td><td>2021-01-20</td><td>&quot;AVENIDA PEDRO …</td><td>-15.795699</td><td>-43.327182</td><td>&quot;VEREDAS&quot;</td><td>&quot;JANAUBA&quot;</td><td>&quot;MG&quot;</td><td>10583881</td></tr><tr><td>&quot;09527517000108…</td><td>&quot;POSTO BARRA NO…</td><td>&quot;IPIRANGA PRODU…</td><td>2022-03-01</td><td>&quot;AVENIDA BRASIL…</td><td>-26.97647</td><td>-48.637302</td><td>&quot;CENTRO&quot;</td><td>&quot;BALNEARIO CAMB…</td><td>&quot;SC&quot;</td><td>9527517</td></tr><tr><td>&quot;89470462002472…</td><td>&quot;REDE ENERGIA&quot;</td><td>&quot;BANDEIRA BRANC…</td><td>2022-10-13</td><td>&quot;AVENIDA GETULI…</td><td>-29.88575</td><td>-51.17978</td><td>&quot;CENTRO&quot;</td><td>&quot;CANOAS&quot;</td><td>&quot;RS&quot;</td><td>89470462</td></tr><tr><td>&quot;04596456000460…</td><td>&quot;ANDREAZZA&quot;</td><td>&quot;PETROBRAS DIST…</td><td>2020-02-26</td><td>&quot;RUA ANGELO AGO…</td><td>-29.143636</td><td>-51.186022</td><td>&quot;PIONEIRO&quot;</td><td>&quot;CAXIAS DO SUL&quot;</td><td>&quot;RS&quot;</td><td>4596456</td></tr><tr><td>&quot;13986632000118…</td><td>&quot;MENDES &amp; FILHO…</td><td>&quot;IPIRANGA PRODU…</td><td>2019-01-18</td><td>&quot;ROD BR 153 KM …</td><td>-18.041639</td><td>-49.267626</td><td>&quot;POVOADO SERRIN…</td><td>&quot;GOIATUBA&quot;</td><td>&quot;GO&quot;</td><td>13986632</td></tr><tr><td>&quot;09437246000108…</td><td>&quot;AUTO POSTO PON…</td><td>&quot;BANDEIRA BRANC…</td><td>2023-06-14</td><td>&quot;AVENIDA JULIO …</td><td>-22.9035</td><td>-47.052771</td><td>&quot;CAMBUI&quot;</td><td>&quot;CAMPINAS&quot;</td><td>&quot;SP&quot;</td><td>9437246</td></tr><tr><td>&quot;10851582000173…</td><td>&quot;A S DE CASTRO …</td><td>&quot;BANDEIRA BRANC…</td><td>null</td><td>&quot;AVENIDA APRIGI…</td><td>-7.217272</td><td>-35.908785</td><td>&quot;BODOCONGO&quot;</td><td>&quot;CAMPINA GRANDE…</td><td>&quot;PB&quot;</td><td>10851582</td></tr><tr><td>&quot;55658181000130…</td><td>&quot;SANTO ANGELO&quot;</td><td>&quot;BANDEIRA BRANC…</td><td>null</td><td>&quot;AVENIDA FRANCI…</td><td>-23.500404</td><td>-46.628695</td><td>&quot;JD REVISTA&quot;</td><td>&quot;SUZANO&quot;</td><td>&quot;SP&quot;</td><td>55658181</td></tr><tr><td>&hellip;</td><td>&hellip;</td><td>&hellip;</td><td>&hellip;</td><td>&hellip;</td><td>&hellip;</td><td>&hellip;</td><td>&hellip;</td><td>&hellip;</td><td>&hellip;</td><td>&hellip;</td></tr><tr><td>&quot;77488005000300…</td><td>&quot;POSTO BOA VIST…</td><td>&quot;SIM DISTRIBUID…</td><td>2023-06-20</td><td>&quot;AVENIDA MANOEL…</td><td>-25.470562</td><td>-50.634136</td><td>&quot;VILA BELA&quot;</td><td>&quot;GUARAPUAVA&quot;</td><td>&quot;PR&quot;</td><td>77488005</td></tr><tr><td>&quot;01945104000131…</td><td>&quot;POSTO MIL&quot;</td><td>&quot;BANDEIRA BRANC…</td><td>2021-09-02</td><td>&quot;AVENIDA MANOEL…</td><td>-20.49667</td><td>-54.619915</td><td>&quot;VILA IPIRANGA&quot;</td><td>&quot;CAMPO GRANDE&quot;</td><td>&quot;MS&quot;</td><td>1945104</td></tr><tr><td>&quot;13162772000171…</td><td>&quot;RF COMBUSTIVEI…</td><td>&quot;IPIRANGA&quot;</td><td>null</td><td>&quot;AVENIDA JOAO N…</td><td>-18.923126</td><td>-48.262149</td><td>&quot;SANTA MONICA&quot;</td><td>&quot;UBERLANDIA&quot;</td><td>&quot;MG&quot;</td><td>13162772</td></tr><tr><td>&quot;28346559000197…</td><td>&quot;TOP SET AUTO P…</td><td>&quot;BANDEIRA BRANC…</td><td>2023-08-22</td><td>&quot;AVENIDA OSWALD…</td><td>-21.767273</td><td>-41.32321</td><td>&quot;CENTRO&quot;</td><td>&quot;CAMPOS DOS GOY…</td><td>&quot;RJ&quot;</td><td>28346559</td></tr><tr><td>&quot;28046566000173…</td><td>&quot;ABASTECEDORA D…</td><td>&quot;IPIRANGA PRODU…</td><td>2019-04-08</td><td>&quot;RUA MARQUES DE…</td><td>-29.66589</td><td>-51.108429</td><td>&quot;HAMBURGO VELHO…</td><td>&quot;NOVO HAMBURGO&quot;</td><td>&quot;RS&quot;</td><td>28046566</td></tr><tr><td>&quot;01135706000123…</td><td>&quot;POSTO DEZ LTDA…</td><td>&quot;BANDEIRA BRANC…</td><td>2023-10-19</td><td>&quot;AVENIDA C12&quot;</td><td>-16.696403</td><td>-49.30036</td><td>&quot;SETOR SUDOESTE…</td><td>&quot;GOIANIA&quot;</td><td>&quot;GO&quot;</td><td>1135706</td></tr><tr><td>&quot;06012432000107…</td><td>&quot;POSTO BOA VIST…</td><td>&quot;BANDEIRA BRANC…</td><td>2023-10-24</td><td>&quot;AVENIDA TRES D…</td><td>-22.537852</td><td>-44.183091</td><td>&quot;CENTRO&quot;</td><td>&quot;BARRA MANSA&quot;</td><td>&quot;RJ&quot;</td><td>6012432</td></tr><tr><td>&quot;00690555000102…</td><td>&quot;POSTO DA ILHA&quot;</td><td>&quot;BANDEIRA BRANC…</td><td>null</td><td>&quot;AVENIDA LEITAO…</td><td>-20.311608</td><td>-40.30213</td><td>&quot;PRAIA DO SUA&quot;</td><td>&quot;VITORIA&quot;</td><td>&quot;ES&quot;</td><td>690555</td></tr><tr><td>&quot;00097626000320…</td><td>&quot;POSTO BRASAL&quot;</td><td>&quot;BANDEIRA BRANC…</td><td>2023-10-10</td><td>&quot;AREA SRES AREA…</td><td>-15.785481</td><td>-47.939758</td><td>&quot;CRUZEIRO VELHO…</td><td>&quot;BRASILIA&quot;</td><td>&quot;DF&quot;</td><td>97626</td></tr><tr><td>&quot;10350388000104…</td><td>&quot;PORTAL DO RIO …</td><td>&quot;BANDEIRA BRANC…</td><td>2023-06-07</td><td>&quot;AVENIDA DO RIO…</td><td>-23.569163</td><td>-46.756501</td><td>&quot;RIO PEQUENO&quot;</td><td>&quot;SAO PAULO&quot;</td><td>&quot;SP&quot;</td><td>10350388</td></tr><tr><td>&quot;18713749000141…</td><td>&quot;POSTO PRAIA CO…</td><td>&quot;BANDEIRA BRANC…</td><td>2023-07-04</td><td>&quot;RUA DOUTOR CON…</td><td>-27.607827</td><td>-48.626978</td><td>&quot;PRAIA COMPRIDA…</td><td>&quot;SAO JOSE&quot;</td><td>&quot;SC&quot;</td><td>18713749</td></tr><tr><td>&quot;18198912000347…</td><td>&quot;18198912000347…</td><td>&quot;BANDEIRA BRANC…</td><td>2021-08-03</td><td>&quot;RUA SETE DE SE…</td><td>-29.891148</td><td>-50.271995</td><td>&quot;CENTRO&quot;</td><td>&quot;OSORIO&quot;</td><td>&quot;RS&quot;</td><td>18198912</td></tr></tbody></table></div>"
      ],
      "text/plain": [
       "shape: (8_142, 11)\n",
       "┌────────────┬────────────┬────────────┬────────────┬───┬────────────┬───────────┬─────┬───────────┐\n",
       "│ CnpjPosto  ┆ RazaoSocia ┆ Distribuid ┆ DataColeta ┆ … ┆ Bairro     ┆ Município ┆ Uf  ┆ CnpjMatri │\n",
       "│ ---        ┆ lPosto     ┆ ora        ┆ ---        ┆   ┆ ---        ┆ ---       ┆ --- ┆ z         │\n",
       "│ str        ┆ ---        ┆ ---        ┆ date       ┆   ┆ str        ┆ str       ┆ str ┆ ---       │\n",
       "│            ┆ str        ┆ str        ┆            ┆   ┆            ┆           ┆     ┆ i32       │\n",
       "╞════════════╪════════════╪════════════╪════════════╪═══╪════════════╪═══════════╪═════╪═══════════╡\n",
       "│ 0275693500 ┆ GAIVOTA    ┆ BANDEIRA   ┆ 2023-12-09 ┆ … ┆ MOEMA      ┆ SAO PAULO ┆ SP  ┆ 2756935   │\n",
       "│ 0128       ┆            ┆ BRANCA     ┆            ┆   ┆            ┆           ┆     ┆           │\n",
       "│ 0038260900 ┆ POSTO      ┆ BANDEIRA   ┆ 2023-06-07 ┆ … ┆ MONDUBIM   ┆ FORTALEZA ┆ CE  ┆ 382609    │\n",
       "│ 0172       ┆ TROPICAL   ┆ BRANCA     ┆            ┆   ┆            ┆           ┆     ┆           │\n",
       "│ 1137208400 ┆ POSTO      ┆ IPIRANGA   ┆ 2020-12-14 ┆ … ┆ TAMBIA     ┆ JOAO      ┆ PB  ┆ 11372084  │\n",
       "│ 0453       ┆ OPCAO      ┆ PRODUTOS   ┆            ┆   ┆            ┆ PESSOA    ┆     ┆           │\n",
       "│            ┆            ┆ DE         ┆            ┆   ┆            ┆           ┆     ┆           │\n",
       "│            ┆            ┆ PETRÓLEO   ┆            ┆   ┆            ┆           ┆     ┆           │\n",
       "│            ┆            ┆ S.…        ┆            ┆   ┆            ┆           ┆     ┆           │\n",
       "│ 3647213200 ┆ POSTO COCK ┆ BANDEIRA   ┆ 2023-01-05 ┆ … ┆ CENTRO     ┆ NILOPOLIS ┆ RJ  ┆ 36472132  │\n",
       "│ 0163       ┆ PIT        ┆ BRANCA     ┆            ┆   ┆            ┆           ┆     ┆           │\n",
       "│ …          ┆ …          ┆ …          ┆ …          ┆ … ┆ …          ┆ …         ┆ …   ┆ …         │\n",
       "│ 0009762600 ┆ POSTO      ┆ BANDEIRA   ┆ 2023-10-10 ┆ … ┆ CRUZEIRO   ┆ BRASILIA  ┆ DF  ┆ 97626     │\n",
       "│ 0320       ┆ BRASAL     ┆ BRANCA     ┆            ┆   ┆ VELHO      ┆           ┆     ┆           │\n",
       "│ 1035038800 ┆ PORTAL DO  ┆ BANDEIRA   ┆ 2023-06-07 ┆ … ┆ RIO        ┆ SAO PAULO ┆ SP  ┆ 10350388  │\n",
       "│ 0104       ┆ RIO        ┆ BRANCA     ┆            ┆   ┆ PEQUENO    ┆           ┆     ┆           │\n",
       "│            ┆ PEQUENO    ┆            ┆            ┆   ┆            ┆           ┆     ┆           │\n",
       "│            ┆ AUTO       ┆            ┆            ┆   ┆            ┆           ┆     ┆           │\n",
       "│            ┆ POSTO…     ┆            ┆            ┆   ┆            ┆           ┆     ┆           │\n",
       "│ 1871374900 ┆ POSTO      ┆ BANDEIRA   ┆ 2023-07-04 ┆ … ┆ PRAIA      ┆ SAO JOSE  ┆ SC  ┆ 18713749  │\n",
       "│ 0141       ┆ PRAIA      ┆ BRANCA     ┆            ┆   ┆ COMPRIDA   ┆           ┆     ┆           │\n",
       "│            ┆ COMPRIDA   ┆            ┆            ┆   ┆            ┆           ┆     ┆           │\n",
       "│            ┆ LTDA       ┆            ┆            ┆   ┆            ┆           ┆     ┆           │\n",
       "│ 1819891200 ┆ 1819891200 ┆ BANDEIRA   ┆ 2021-08-03 ┆ … ┆ CENTRO     ┆ OSORIO    ┆ RS  ┆ 18198912  │\n",
       "│ 0347       ┆ 0347       ┆ BRANCA     ┆            ┆   ┆            ┆           ┆     ┆           │\n",
       "└────────────┴────────────┴────────────┴────────────┴───┴────────────┴───────────┴─────┴───────────┘"
      ]
     },
     "execution_count": 52,
     "metadata": {},
     "output_type": "execute_result"
    }
   ],
   "source": [
    "df_precos = df_pmqc.join(df_postos, on='CnpjPosto', how='left')\n",
    "df_precos = df_precos.rename({'RazaoSocialPosto': 'RSP1'})\n",
    "df_precos = df_precos.rename({'nome_fantasia': 'RazaoSocialPosto'})\n",
    "# when RazaoSocialPosto is null, then RSP1\n",
    "df_precos = df_precos.with_columns(\n",
    "    pl.when(pl.col('RazaoSocialPosto').is_null() | pl.col('RazaoSocialPosto').str.contains('nan'))\n",
    "    .then(pl.col('RSP1'))\n",
    "    .otherwise(pl.col('RazaoSocialPosto'))\n",
    "    .alias('RazaoSocialPosto')\n",
    ")\n",
    "df_precos = df_precos.drop('RSP1')\n",
    "df_precos = df_precos.unique(subset=['CnpjPosto'])\n",
    "df_precos = df_precos.filter(pl.col('Latitude').is_not_null())\n",
    "df_precos"
   ]
  },
  {
   "cell_type": "code",
   "execution_count": 54,
   "metadata": {},
   "outputs": [],
   "source": [
    "df_precos.write_json('./staging/pmqc_processed/postos.json', row_oriented=True)\n",
    "df_precos.write_parquet('./staging/pmqc_processed/postos.parquet')"
   ]
  }
 ],
 "metadata": {
  "kernelspec": {
   "display_name": ".venv",
   "language": "python",
   "name": "python3"
  },
  "language_info": {
   "codemirror_mode": {
    "name": "ipython",
    "version": 3
   },
   "file_extension": ".py",
   "mimetype": "text/x-python",
   "name": "python",
   "nbconvert_exporter": "python",
   "pygments_lexer": "ipython3",
   "version": "3.9.6"
  }
 },
 "nbformat": 4,
 "nbformat_minor": 2
}
